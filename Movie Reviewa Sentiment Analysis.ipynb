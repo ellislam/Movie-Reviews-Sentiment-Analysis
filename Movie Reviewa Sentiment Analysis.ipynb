{
 "cells": [
  {
   "cell_type": "markdown",
   "metadata": {},
   "source": [
    "# Movie Sentiment Analysis"
   ]
  },
  {
   "cell_type": "code",
   "execution_count": 246,
   "metadata": {},
   "outputs": [],
   "source": [
    "import pandas as pd\n",
    "import numpy as np\n",
    "import re\n",
    "import nltk\n",
    "from nltk.corpus import stopwords\n",
    "\n",
    "from numpy import array\n",
    "from tensorflow.keras.preprocessing.text import one_hot\n",
    "from tensorflow.keras.preprocessing.sequence import pad_sequences\n",
    "from tensorflow.keras.models import Sequential\n",
    "from keras.layers.core import Activation, Dropout, Dense\n",
    "from keras.layers import Flatten\n",
    "from keras.layers import GlobalMaxPooling1D, Conv1D\n",
    "from keras.layers.embeddings import Embedding\n",
    "from sklearn.model_selection import train_test_split\n",
    "from keras.preprocessing.text import Tokenizer"
   ]
  },
  {
   "cell_type": "markdown",
   "metadata": {},
   "source": [
    "### Dataset"
   ]
  },
  {
   "cell_type": "code",
   "execution_count": 208,
   "metadata": {},
   "outputs": [
    {
     "data": {
      "text/plain": [
       "((20000, 9), (2000, 9))"
      ]
     },
     "execution_count": 208,
     "metadata": {},
     "output_type": "execute_result"
    }
   ],
   "source": [
    "movie_reviews_train = pd.read_csv(\"data/train.csv\")\n",
    "movie_reviews_test = pd.read_csv(\"data/test.csv\")\n",
    "movie_reviews_train.isnull().values.any()\n",
    "movie_reviews_test.isnull().values.any()\n",
    "movie_reviews_train.shape, movie_reviews_test.shape"
   ]
  },
  {
   "cell_type": "code",
   "execution_count": 211,
   "metadata": {},
   "outputs": [
    {
     "data": {
      "text/html": [
       "<div>\n",
       "<style scoped>\n",
       "    .dataframe tbody tr th:only-of-type {\n",
       "        vertical-align: middle;\n",
       "    }\n",
       "\n",
       "    .dataframe tbody tr th {\n",
       "        vertical-align: top;\n",
       "    }\n",
       "\n",
       "    .dataframe thead th {\n",
       "        text-align: right;\n",
       "    }\n",
       "</style>\n",
       "<table border=\"1\" class=\"dataframe\">\n",
       "  <thead>\n",
       "    <tr style=\"text-align: right;\">\n",
       "      <th></th>\n",
       "      <th>business_id</th>\n",
       "      <th>cool</th>\n",
       "      <th>date</th>\n",
       "      <th>funny</th>\n",
       "      <th>review_id</th>\n",
       "      <th>stars</th>\n",
       "      <th>text</th>\n",
       "      <th>useful</th>\n",
       "      <th>user_id</th>\n",
       "    </tr>\n",
       "  </thead>\n",
       "  <tbody>\n",
       "    <tr>\n",
       "      <th>0</th>\n",
       "      <td>4wjJe3AxFyVOSMHLRh68Og</td>\n",
       "      <td>8</td>\n",
       "      <td>2009-08-22 21:06:56</td>\n",
       "      <td>10</td>\n",
       "      <td>ygjO-o4_YoXr41D7Rx9vmw</td>\n",
       "      <td>4</td>\n",
       "      <td>\"What do you do for recreation?\"\\n\\n\"Oh, the u...</td>\n",
       "      <td>9</td>\n",
       "      <td>K0sapHOlhlGNjx3GBeSf5A</td>\n",
       "    </tr>\n",
       "  </tbody>\n",
       "</table>\n",
       "</div>"
      ],
      "text/plain": [
       "              business_id  cool                 date  funny  \\\n",
       "0  4wjJe3AxFyVOSMHLRh68Og     8  2009-08-22 21:06:56     10   \n",
       "\n",
       "                review_id  stars  \\\n",
       "0  ygjO-o4_YoXr41D7Rx9vmw      4   \n",
       "\n",
       "                                                text  useful  \\\n",
       "0  \"What do you do for recreation?\"\\n\\n\"Oh, the u...       9   \n",
       "\n",
       "                  user_id  \n",
       "0  K0sapHOlhlGNjx3GBeSf5A  "
      ]
     },
     "execution_count": 211,
     "metadata": {},
     "output_type": "execute_result"
    }
   ],
   "source": [
    "movie_reviews_train.head(1)"
   ]
  },
  {
   "cell_type": "code",
   "execution_count": 212,
   "metadata": {},
   "outputs": [],
   "source": [
    "def pos(row):\n",
    "    if row['stars'] == 3 or row['stars'] == 4 or row['stars'] == 5:\n",
    "        val = 1\n",
    "    elif row['stars'] == 0 or row['stars'] == 1 or row['stars'] == 2 :\n",
    "        val = 0\n",
    "    return val"
   ]
  },
  {
   "cell_type": "code",
   "execution_count": 213,
   "metadata": {},
   "outputs": [],
   "source": [
    "movie_reviews_train['pos'] = movie_reviews_train.apply(pos, axis=1)\n",
    "movie_reviews_test['pos'] = movie_reviews_test.apply(pos, axis=1)"
   ]
  },
  {
   "cell_type": "code",
   "execution_count": 214,
   "metadata": {},
   "outputs": [
    {
     "data": {
      "text/html": [
       "<div>\n",
       "<style scoped>\n",
       "    .dataframe tbody tr th:only-of-type {\n",
       "        vertical-align: middle;\n",
       "    }\n",
       "\n",
       "    .dataframe tbody tr th {\n",
       "        vertical-align: top;\n",
       "    }\n",
       "\n",
       "    .dataframe thead th {\n",
       "        text-align: right;\n",
       "    }\n",
       "</style>\n",
       "<table border=\"1\" class=\"dataframe\">\n",
       "  <thead>\n",
       "    <tr style=\"text-align: right;\">\n",
       "      <th></th>\n",
       "      <th>business_id</th>\n",
       "      <th>cool</th>\n",
       "      <th>date</th>\n",
       "      <th>funny</th>\n",
       "      <th>review_id</th>\n",
       "      <th>stars</th>\n",
       "      <th>text</th>\n",
       "      <th>useful</th>\n",
       "      <th>user_id</th>\n",
       "      <th>pos</th>\n",
       "    </tr>\n",
       "  </thead>\n",
       "  <tbody>\n",
       "    <tr>\n",
       "      <th>0</th>\n",
       "      <td>4wjJe3AxFyVOSMHLRh68Og</td>\n",
       "      <td>8</td>\n",
       "      <td>2009-08-22 21:06:56</td>\n",
       "      <td>10</td>\n",
       "      <td>ygjO-o4_YoXr41D7Rx9vmw</td>\n",
       "      <td>4</td>\n",
       "      <td>\"What do you do for recreation?\"\\n\\n\"Oh, the u...</td>\n",
       "      <td>9</td>\n",
       "      <td>K0sapHOlhlGNjx3GBeSf5A</td>\n",
       "      <td>1</td>\n",
       "    </tr>\n",
       "    <tr>\n",
       "      <th>1</th>\n",
       "      <td>xGXzIliuZ6FgMS870UjPRw</td>\n",
       "      <td>0</td>\n",
       "      <td>2017-08-24 16:53:53</td>\n",
       "      <td>0</td>\n",
       "      <td>MN5bVycm01xc7V3PPBPoMQ</td>\n",
       "      <td>5</td>\n",
       "      <td>The burgers are good and they have good fries ...</td>\n",
       "      <td>0</td>\n",
       "      <td>ykiNDnGo_66TsjknglEcjQ</td>\n",
       "      <td>1</td>\n",
       "    </tr>\n",
       "    <tr>\n",
       "      <th>2</th>\n",
       "      <td>wdwODzBChLIh_u8V8CPpyA</td>\n",
       "      <td>0</td>\n",
       "      <td>2014-08-15 02:31:54</td>\n",
       "      <td>0</td>\n",
       "      <td>9eDWY5cevgRhywg6uTm8Pw</td>\n",
       "      <td>2</td>\n",
       "      <td>Been there three times, twice they didn't have...</td>\n",
       "      <td>0</td>\n",
       "      <td>4y3C9Mml09FzFk6rq6_g2Q</td>\n",
       "      <td>0</td>\n",
       "    </tr>\n",
       "    <tr>\n",
       "      <th>3</th>\n",
       "      <td>n8Zqqhff-2cxzWt_nwhU2Q</td>\n",
       "      <td>1</td>\n",
       "      <td>2015-06-30 03:48:18</td>\n",
       "      <td>1</td>\n",
       "      <td>Zt9Yj5K1Y-MnDmocXI9Zgw</td>\n",
       "      <td>5</td>\n",
       "      <td>Pretty excited to discover this Cali gastropub...</td>\n",
       "      <td>1</td>\n",
       "      <td>PH7HEuAqSQgOGDi7Ygnulg</td>\n",
       "      <td>1</td>\n",
       "    </tr>\n",
       "    <tr>\n",
       "      <th>4</th>\n",
       "      <td>Em2ZuYiyTr4_ITSCTi86CQ</td>\n",
       "      <td>0</td>\n",
       "      <td>2018-05-25 22:29:25</td>\n",
       "      <td>0</td>\n",
       "      <td>qPR0JlNSMChgCjxY3yyiEw</td>\n",
       "      <td>5</td>\n",
       "      <td>I have been very pleased with the care that I ...</td>\n",
       "      <td>0</td>\n",
       "      <td>5uKGIkrQRISzQCSA6DXtow</td>\n",
       "      <td>1</td>\n",
       "    </tr>\n",
       "  </tbody>\n",
       "</table>\n",
       "</div>"
      ],
      "text/plain": [
       "              business_id  cool                 date  funny  \\\n",
       "0  4wjJe3AxFyVOSMHLRh68Og     8  2009-08-22 21:06:56     10   \n",
       "1  xGXzIliuZ6FgMS870UjPRw     0  2017-08-24 16:53:53      0   \n",
       "2  wdwODzBChLIh_u8V8CPpyA     0  2014-08-15 02:31:54      0   \n",
       "3  n8Zqqhff-2cxzWt_nwhU2Q     1  2015-06-30 03:48:18      1   \n",
       "4  Em2ZuYiyTr4_ITSCTi86CQ     0  2018-05-25 22:29:25      0   \n",
       "\n",
       "                review_id  stars  \\\n",
       "0  ygjO-o4_YoXr41D7Rx9vmw      4   \n",
       "1  MN5bVycm01xc7V3PPBPoMQ      5   \n",
       "2  9eDWY5cevgRhywg6uTm8Pw      2   \n",
       "3  Zt9Yj5K1Y-MnDmocXI9Zgw      5   \n",
       "4  qPR0JlNSMChgCjxY3yyiEw      5   \n",
       "\n",
       "                                                text  useful  \\\n",
       "0  \"What do you do for recreation?\"\\n\\n\"Oh, the u...       9   \n",
       "1  The burgers are good and they have good fries ...       0   \n",
       "2  Been there three times, twice they didn't have...       0   \n",
       "3  Pretty excited to discover this Cali gastropub...       1   \n",
       "4  I have been very pleased with the care that I ...       0   \n",
       "\n",
       "                  user_id  pos  \n",
       "0  K0sapHOlhlGNjx3GBeSf5A    1  \n",
       "1  ykiNDnGo_66TsjknglEcjQ    1  \n",
       "2  4y3C9Mml09FzFk6rq6_g2Q    0  \n",
       "3  PH7HEuAqSQgOGDi7Ygnulg    1  \n",
       "4  5uKGIkrQRISzQCSA6DXtow    1  "
      ]
     },
     "execution_count": 214,
     "metadata": {},
     "output_type": "execute_result"
    }
   ],
   "source": [
    "movie_reviews_train.head()"
   ]
  },
  {
   "cell_type": "code",
   "execution_count": 215,
   "metadata": {},
   "outputs": [],
   "source": [
    "movie_reviews_train=movie_reviews_train[['text','pos']]\n",
    "movie_reviews_test=movie_reviews_test[['text','pos']]"
   ]
  },
  {
   "cell_type": "code",
   "execution_count": 216,
   "metadata": {},
   "outputs": [
    {
     "data": {
      "text/html": [
       "<div>\n",
       "<style scoped>\n",
       "    .dataframe tbody tr th:only-of-type {\n",
       "        vertical-align: middle;\n",
       "    }\n",
       "\n",
       "    .dataframe tbody tr th {\n",
       "        vertical-align: top;\n",
       "    }\n",
       "\n",
       "    .dataframe thead th {\n",
       "        text-align: right;\n",
       "    }\n",
       "</style>\n",
       "<table border=\"1\" class=\"dataframe\">\n",
       "  <thead>\n",
       "    <tr style=\"text-align: right;\">\n",
       "      <th></th>\n",
       "      <th>text</th>\n",
       "      <th>pos</th>\n",
       "    </tr>\n",
       "  </thead>\n",
       "  <tbody>\n",
       "    <tr>\n",
       "      <th>0</th>\n",
       "      <td>\"What do you do for recreation?\"\\n\\n\"Oh, the u...</td>\n",
       "      <td>1</td>\n",
       "    </tr>\n",
       "    <tr>\n",
       "      <th>1</th>\n",
       "      <td>The burgers are good and they have good fries ...</td>\n",
       "      <td>1</td>\n",
       "    </tr>\n",
       "    <tr>\n",
       "      <th>2</th>\n",
       "      <td>Been there three times, twice they didn't have...</td>\n",
       "      <td>0</td>\n",
       "    </tr>\n",
       "    <tr>\n",
       "      <th>3</th>\n",
       "      <td>Pretty excited to discover this Cali gastropub...</td>\n",
       "      <td>1</td>\n",
       "    </tr>\n",
       "    <tr>\n",
       "      <th>4</th>\n",
       "      <td>I have been very pleased with the care that I ...</td>\n",
       "      <td>1</td>\n",
       "    </tr>\n",
       "  </tbody>\n",
       "</table>\n",
       "</div>"
      ],
      "text/plain": [
       "                                                text  pos\n",
       "0  \"What do you do for recreation?\"\\n\\n\"Oh, the u...    1\n",
       "1  The burgers are good and they have good fries ...    1\n",
       "2  Been there three times, twice they didn't have...    0\n",
       "3  Pretty excited to discover this Cali gastropub...    1\n",
       "4  I have been very pleased with the care that I ...    1"
      ]
     },
     "execution_count": 216,
     "metadata": {},
     "output_type": "execute_result"
    }
   ],
   "source": [
    "movie_reviews_train.head()"
   ]
  },
  {
   "cell_type": "code",
   "execution_count": 201,
   "metadata": {},
   "outputs": [
    {
     "data": {
      "text/plain": [
       "<matplotlib.axes._subplots.AxesSubplot at 0x1b72f05f90>"
      ]
     },
     "execution_count": 201,
     "metadata": {},
     "output_type": "execute_result"
    },
    {
     "data": {
      "image/png": "[encoded data removed]",
      "text/plain": [
       "<Figure size 432x288 with 1 Axes>"
      ]
     },
     "metadata": {
      "needs_background": "light"
     },
     "output_type": "display_data"
    }
   ],
   "source": [
    "import seaborn as sns\n",
    "sns.countplot(x='pos', data=movie_reviews)"
   ]
  },
  {
   "cell_type": "markdown",
   "metadata": {},
   "source": [
    "## Part 1. Data Preprocessing"
   ]
  },
  {
   "cell_type": "code",
   "execution_count": 217,
   "metadata": {},
   "outputs": [],
   "source": [
    "def preprocess_text(sen):\n",
    "    # Removing html tags\n",
    "    # sentence = remove_tags(sen)\n",
    "\n",
    "    # Remove punctuations and numbers\n",
    "    sentence = re.sub('[^a-zA-Z]', ' ', sentence)\n",
    "\n",
    "    # Single character removal\n",
    "    sentence = re.sub(r\"\\s+[a-zA-Z]\\s+\", ' ', sentence)\n",
    "\n",
    "    # Removing multiple spaces\n",
    "    sentence = re.sub(r'\\s+', ' ', sentence)\n",
    "\n",
    "    return sentence"
   ]
  },
  {
   "cell_type": "code",
   "execution_count": 221,
   "metadata": {},
   "outputs": [],
   "source": [
    "X_train = []\n",
    "sentences_train = list(movie_reviews_train['text'])\n",
    "for sen in sentences_train:\n",
    "    X_train.append(preprocess_text(sen))"
   ]
  },
  {
   "cell_type": "code",
   "execution_count": 222,
   "metadata": {},
   "outputs": [],
   "source": [
    "X_test = []\n",
    "sentences_test = list(movie_reviews_test['text'])\n",
    "for sen in sentences_test:\n",
    "    X_test.append(preprocess_text(sen))"
   ]
  },
  {
   "cell_type": "code",
   "execution_count": 227,
   "metadata": {},
   "outputs": [],
   "source": [
    "Y_train=movie_reviews_train['pos']\n",
    "Y_test=movie_reviews_test['pos']"
   ]
  },
  {
   "cell_type": "markdown",
   "metadata": {},
   "source": [
    "### Embedding Layer"
   ]
  },
  {
   "cell_type": "code",
   "execution_count": 230,
   "metadata": {},
   "outputs": [],
   "source": [
    "tokenizer = Tokenizer(num_words=100000)\n",
    "tokenizer.fit_on_texts(X_train)\n",
    "\n",
    "X_train = tokenizer.texts_to_sequences(X_train)\n",
    "X_test = tokenizer.texts_to_sequences(X_test)"
   ]
  },
  {
   "cell_type": "code",
   "execution_count": 232,
   "metadata": {},
   "outputs": [],
   "source": [
    "# Adding 1 because of reserved 0 index\n",
    "vocab_size = len(tokenizer.word_index) + 1\n",
    "\n",
    "maxlen = 200\n",
    "\n",
    "X_train = pad_sequences(X_train, padding='post', maxlen=maxlen)\n",
    "X_test = pad_sequences(X_test, padding='post', maxlen=maxlen)"
   ]
  },
  {
   "cell_type": "code",
   "execution_count": 233,
   "metadata": {},
   "outputs": [],
   "source": [
    "from numpy import array\n",
    "from numpy import asarray\n",
    "from numpy import zeros\n",
    "\n",
    "embeddings_dictionary = dict()\n",
    "glove_file = open('glove.6B/glove.6B.100d.txt', encoding=\"utf8\")\n",
    "\n",
    "for line in glove_file:\n",
    "    records = line.split()\n",
    "    word = records[0]\n",
    "    vector_dimensions = asarray(records[1:], dtype='float32')\n",
    "    embeddings_dictionary [word] = vector_dimensions\n",
    "glove_file.close()"
   ]
  },
  {
   "cell_type": "code",
   "execution_count": 234,
   "metadata": {},
   "outputs": [],
   "source": [
    "embedding_matrix = zeros((vocab_size, 100))\n",
    "for word, index in tokenizer.word_index.items():\n",
    "    embedding_vector = embeddings_dictionary.get(word)\n",
    "    if embedding_vector is not None:\n",
    "        embedding_matrix[index] = embedding_vector"
   ]
  },
  {
   "cell_type": "markdown",
   "metadata": {},
   "source": [
    "## Part 2. Classification with Simple Neural Network"
   ]
  },
  {
   "cell_type": "code",
   "execution_count": 235,
   "metadata": {},
   "outputs": [],
   "source": [
    "model = Sequential()\n",
    "embedding_layer = Embedding(vocab_size, 100, weights=[embedding_matrix], input_length=maxlen , trainable=False)\n",
    "model.add(embedding_layer)\n",
    "\n",
    "model.add(Flatten())\n",
    "model.add(Dense(1, activation='sigmoid'))"
   ]
  },
  {
   "cell_type": "code",
   "execution_count": 236,
   "metadata": {},
   "outputs": [
    {
     "name": "stdout",
     "output_type": "stream",
     "text": [
      "Model: \"sequential_1\"\n",
      "_________________________________________________________________\n",
      "Layer (type)                 Output Shape              Param #   \n",
      "=================================================================\n",
      "embedding_2 (Embedding)      (None, 200, 100)          3674800   \n",
      "_________________________________________________________________\n",
      "flatten_1 (Flatten)          (None, 20000)             0         \n",
      "_________________________________________________________________\n",
      "dense_3 (Dense)              (None, 1)                 20001     \n",
      "=================================================================\n",
      "Total params: 3,694,801\n",
      "Trainable params: 20,001\n",
      "Non-trainable params: 3,674,800\n",
      "_________________________________________________________________\n",
      "None\n"
     ]
    }
   ],
   "source": [
    "model.compile(optimizer='adam', loss='binary_crossentropy', metrics=['acc'])\n",
    "\n",
    "print(model.summary())"
   ]
  },
  {
   "cell_type": "code",
   "execution_count": 238,
   "metadata": {},
   "outputs": [
    {
     "name": "stdout",
     "output_type": "stream",
     "text": [
      "Epoch 1/6\n",
      "20000/20000 [==============================] - 2s 109us/step - loss: 0.4405 - acc: 0.8023\n",
      "Epoch 2/6\n",
      "20000/20000 [==============================] - 1s 28us/step - loss: 0.3038 - acc: 0.8711\n",
      "Epoch 3/6\n",
      "20000/20000 [==============================] - 1s 32us/step - loss: 0.2491 - acc: 0.8978\n",
      "Epoch 4/6\n",
      "20000/20000 [==============================] - 1s 27us/step - loss: 0.2133 - acc: 0.9193\n",
      "Epoch 5/6\n",
      "20000/20000 [==============================] - 1s 27us/step - loss: 0.1875 - acc: 0.9329\n",
      "Epoch 6/6\n",
      "20000/20000 [==============================] - 1s 27us/step - loss: 0.1677 - acc: 0.9444\n"
     ]
    }
   ],
   "source": [
    "history = model.fit(X_train, Y_train, batch_size=128, epochs=6, verbose=1)"
   ]
  },
  {
   "cell_type": "code",
   "execution_count": 239,
   "metadata": {},
   "outputs": [
    {
     "name": "stdout",
     "output_type": "stream",
     "text": [
      "2000/2000 [==============================] - 0s 125us/step\n"
     ]
    }
   ],
   "source": [
    "score = model.evaluate(X_test, Y_test, verbose=1)"
   ]
  },
  {
   "cell_type": "code",
   "execution_count": 240,
   "metadata": {},
   "outputs": [
    {
     "name": "stdout",
     "output_type": "stream",
     "text": [
      "Test Score: 0.4195699908733368\n",
      "Test Accuracy: 0.8314999938011169\n"
     ]
    }
   ],
   "source": [
    "print(\"Test Score:\", score[0])\n",
    "print(\"Test Accuracy:\", score[1])"
   ]
  },
  {
   "cell_type": "markdown",
   "metadata": {},
   "source": [
    "## Part 3. Classification with Convolutional Neural Network"
   ]
  },
  {
   "cell_type": "code",
   "execution_count": 247,
   "metadata": {},
   "outputs": [],
   "source": [
    "model = Sequential()\n",
    "\n",
    "embedding_layer = Embedding(vocab_size, 100, weights=[embedding_matrix], input_length=maxlen , trainable=False)\n",
    "model.add(embedding_layer)\n",
    "\n",
    "model.add(Conv1D(128, 5, activation='relu'))\n",
    "model.add(GlobalMaxPooling1D())\n",
    "model.add(Dense(1, activation='sigmoid'))\n",
    "model.compile(optimizer='adam', loss='binary_crossentropy', metrics=['acc'])"
   ]
  },
  {
   "cell_type": "code",
   "execution_count": 248,
   "metadata": {},
   "outputs": [
    {
     "name": "stdout",
     "output_type": "stream",
     "text": [
      "Model: \"sequential_3\"\n",
      "_________________________________________________________________\n",
      "Layer (type)                 Output Shape              Param #   \n",
      "=================================================================\n",
      "embedding_4 (Embedding)      (None, 200, 100)          3674800   \n",
      "_________________________________________________________________\n",
      "conv1d_1 (Conv1D)            (None, 196, 128)          64128     \n",
      "_________________________________________________________________\n",
      "global_max_pooling1d_1 (Glob (None, 128)               0         \n",
      "_________________________________________________________________\n",
      "dense_4 (Dense)              (None, 1)                 129       \n",
      "=================================================================\n",
      "Total params: 3,739,057\n",
      "Trainable params: 64,257\n",
      "Non-trainable params: 3,674,800\n",
      "_________________________________________________________________\n",
      "None\n"
     ]
    }
   ],
   "source": [
    "print(model.summary())"
   ]
  },
  {
   "cell_type": "code",
   "execution_count": 260,
   "metadata": {},
   "outputs": [
    {
     "name": "stdout",
     "output_type": "stream",
     "text": [
      "Epoch 1/6\n",
      "20000/20000 [==============================] - 85s 4ms/step - loss: 0.2425 - acc: 0.8972\n",
      "Epoch 2/6\n",
      "20000/20000 [==============================] - 86s 4ms/step - loss: 0.2335 - acc: 0.9007\n",
      "Epoch 3/6\n",
      "20000/20000 [==============================] - 96s 5ms/step - loss: 0.2284 - acc: 0.9043\n",
      "Epoch 4/6\n",
      "20000/20000 [==============================] - 83s 4ms/step - loss: 0.2188 - acc: 0.9089\n",
      "Epoch 5/6\n",
      "20000/20000 [==============================] - 76s 4ms/step - loss: 0.2143 - acc: 0.9115\n",
      "Epoch 6/6\n",
      "20000/20000 [==============================] - 88s 4ms/step - loss: 0.2096 - acc: 0.9123\n",
      "2000/2000 [==============================] - 4s 2ms/step\n"
     ]
    }
   ],
   "source": [
    "history = model.fit(X_train, Y_train, batch_size=128, epochs=6, verbose=1)\n",
    "\n",
    "score = model.evaluate(X_test, Y_test, verbose=1)"
   ]
  },
  {
   "cell_type": "code",
   "execution_count": 261,
   "metadata": {},
   "outputs": [
    {
     "name": "stdout",
     "output_type": "stream",
     "text": [
      "Test Score: 0.2224456981420517\n",
      "Test Accuracy: 0.9054999947547913\n"
     ]
    }
   ],
   "source": [
    "print(\"Test Score:\", score[0])\n",
    "print(\"Test Accuracy:\", score[1])"
   ]
  },
  {
   "cell_type": "markdown",
   "metadata": {},
   "source": [
    "## Part 4. Classification with Recurrent Neural Network (LSTM)"
   ]
  },
  {
   "cell_type": "code",
   "execution_count": 256,
   "metadata": {},
   "outputs": [],
   "source": [
    "model = Sequential()\n",
    "embedding_layer = Embedding(vocab_size, 100, weights=[embedding_matrix], input_length=maxlen , trainable=False)\n",
    "model.add(embedding_layer)\n",
    "model.add(LSTM(128))\n",
    "\n",
    "model.add(Dense(1, activation='sigmoid'))\n",
    "model.compile(optimizer='adam', loss='binary_crossentropy', metrics=['acc'])"
   ]
  },
  {
   "cell_type": "code",
   "execution_count": 257,
   "metadata": {},
   "outputs": [
    {
     "name": "stdout",
     "output_type": "stream",
     "text": [
      "Model: \"sequential_5\"\n",
      "_________________________________________________________________\n",
      "Layer (type)                 Output Shape              Param #   \n",
      "=================================================================\n",
      "embedding_6 (Embedding)      (None, 200, 100)          3674800   \n",
      "_________________________________________________________________\n",
      "lstm_3 (LSTM)                (None, 128)               117248    \n",
      "_________________________________________________________________\n",
      "dense_6 (Dense)              (None, 1)                 129       \n",
      "=================================================================\n",
      "Total params: 3,792,177\n",
      "Trainable params: 117,377\n",
      "Non-trainable params: 3,674,800\n",
      "_________________________________________________________________\n",
      "None\n"
     ]
    }
   ],
   "source": [
    "print(model.summary())"
   ]
  },
  {
   "cell_type": "code",
   "execution_count": 258,
   "metadata": {},
   "outputs": [
    {
     "name": "stdout",
     "output_type": "stream",
     "text": [
      "Epoch 1/6\n",
      "20000/20000 [==============================] - 84s 4ms/step - loss: 0.5351 - acc: 0.7707\n",
      "Epoch 2/6\n",
      "20000/20000 [==============================] - 92s 5ms/step - loss: 0.5285 - acc: 0.7735\n",
      "Epoch 3/6\n",
      "20000/20000 [==============================] - 81s 4ms/step - loss: 0.5139 - acc: 0.7794\n",
      "Epoch 4/6\n",
      "20000/20000 [==============================] - 85s 4ms/step - loss: 0.4117 - acc: 0.8188\n",
      "Epoch 5/6\n",
      "20000/20000 [==============================] - 74s 4ms/step - loss: 0.2795 - acc: 0.8845\n",
      "Epoch 6/6\n",
      "20000/20000 [==============================] - 75s 4ms/step - loss: 0.2564 - acc: 0.8909\n",
      "2000/2000 [==============================] - 3s 1ms/step\n"
     ]
    }
   ],
   "source": [
    "history = model.fit(X_train, Y_train, batch_size=128, epochs=6, verbose=1)\n",
    "\n",
    "score = model.evaluate(X_test, Y_test, verbose=1)"
   ]
  },
  {
   "cell_type": "code",
   "execution_count": 259,
   "metadata": {},
   "outputs": [
    {
     "name": "stdout",
     "output_type": "stream",
     "text": [
      "Test Score: 0.2600295501947403\n",
      "Test Accuracy: 0.8830000162124634\n"
     ]
    }
   ],
   "source": [
    "print(\"Test Score:\", score[0])\n",
    "print(\"Test Accuracy:\", score[1])"
   ]
  }
 ],
 "metadata": {
  "kernelspec": {
   "display_name": "Python 3",
   "language": "python",
   "name": "python3"
  },
  "language_info": {
   "codemirror_mode": {
    "name": "ipython",
    "version": 3
   },
   "file_extension": ".py",
   "mimetype": "text/x-python",
   "name": "python",
   "nbconvert_exporter": "python",
   "pygments_lexer": "ipython3",
   "version": "3.8.3"
  }
 },
 "nbformat": 4,
 "nbformat_minor": 4
}
